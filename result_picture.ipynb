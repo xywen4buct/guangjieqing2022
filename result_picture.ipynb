{
 "cells": [
  {
   "cell_type": "code",
   "execution_count": 1,
   "metadata": {
    "ExecuteTime": {
     "end_time": "2022-07-08T14:08:31.702126Z",
     "start_time": "2022-07-08T14:08:30.364458Z"
    }
   },
   "outputs": [],
   "source": [
    "import matplotlib.pyplot as plt\n",
    "import numpy as np"
   ]
  },
  {
   "cell_type": "code",
   "execution_count": 2,
   "metadata": {
    "ExecuteTime": {
     "end_time": "2022-07-08T14:08:31.717727Z",
     "start_time": "2022-07-08T14:08:31.702126Z"
    }
   },
   "outputs": [],
   "source": [
    "file_path_kafka = r\"D:\\autoencoder\\SparseEncoder\\save\\result\\kafka\"\n",
    "file_path_kylin = r\"D:\\autoencoder\\SparseEncoder\\save\\result\\kylin\"\n",
    "file_path_ant = r\"D:\\autoencoder\\SparseEncoder\\save\\result\\ant\"\n",
    "file_path_tomcat = r\"D:\\autoencoder\\SparseEncoder\\save\\result\\tomcat\""
   ]
  },
  {
   "cell_type": "code",
   "execution_count": 3,
   "metadata": {
    "ExecuteTime": {
     "end_time": "2022-07-08T14:08:31.733714Z",
     "start_time": "2022-07-08T14:08:31.717727Z"
    }
   },
   "outputs": [],
   "source": [
    "import os\n",
    "import re\n",
    "import json"
   ]
  },
  {
   "cell_type": "code",
   "execution_count": 4,
   "metadata": {
    "ExecuteTime": {
     "end_time": "2022-07-08T14:08:31.766082Z",
     "start_time": "2022-07-08T14:08:31.733714Z"
    }
   },
   "outputs": [],
   "source": [
    "filename_kafka = [os.path.join(file_path_kafka,filename) for filename in os.listdir(file_path_kafka)]\n",
    "filename_kylin = [os.path.join(file_path_kylin,filename) for filename in os.listdir(file_path_kylin)]\n",
    "filename_ant = [os.path.join(file_path_ant,filename) for filename in os.listdir(file_path_ant)]\n",
    "filename_tomcat = [os.path.join(file_path_tomcat,filename) for filename in os.listdir(file_path_tomcat)]"
   ]
  },
  {
   "cell_type": "code",
   "execution_count": 5,
   "metadata": {
    "ExecuteTime": {
     "end_time": "2022-07-08T14:08:31.813874Z",
     "start_time": "2022-07-08T14:08:31.766082Z"
    }
   },
   "outputs": [],
   "source": [
    "result_kafka = np.zeros(36)\n",
    "pattern = re.compile(\"[\\w\\W]:\\s*(\\d+\\.\\d+)\")\n",
    "for i,filename in enumerate(filename_kafka):\n",
    "    with open(filename,'r') as f:\n",
    "        tmp = f.readlines()\n",
    "        f_s = float(pattern.findall(tmp[1])[0])\n",
    "        result_kafka[i] = f_s\n",
    "        f.close()"
   ]
  },
  {
   "cell_type": "code",
   "execution_count": 6,
   "metadata": {
    "ExecuteTime": {
     "end_time": "2022-07-08T14:08:31.861979Z",
     "start_time": "2022-07-08T14:08:31.813874Z"
    }
   },
   "outputs": [],
   "source": [
    "result_kylin = np.zeros(36)\n",
    "pattern = re.compile(\"[\\w\\W]:\\s*(\\d+\\.\\d+)\")\n",
    "for i,filename in enumerate(filename_kylin):\n",
    "    with open(filename,'r') as f:\n",
    "        tmp = f.readlines()\n",
    "        f_s = float(pattern.findall(tmp[1])[0])\n",
    "        result_kylin[i] = f_s\n",
    "        f.close()"
   ]
  },
  {
   "cell_type": "code",
   "execution_count": 7,
   "metadata": {
    "ExecuteTime": {
     "end_time": "2022-07-08T14:08:31.909821Z",
     "start_time": "2022-07-08T14:08:31.861979Z"
    }
   },
   "outputs": [],
   "source": [
    "result_ant = np.zeros(36)\n",
    "pattern = re.compile(\"[\\w\\W]:\\s*(\\d+\\.\\d+)\")\n",
    "for i,filename in enumerate(filename_ant):\n",
    "    with open(filename,'r') as f:\n",
    "        tmp = f.readlines()\n",
    "        f_s = float(pattern.findall(tmp[1])[0])\n",
    "        result_ant[i] = f_s\n",
    "        f.close()"
   ]
  },
  {
   "cell_type": "code",
   "execution_count": 8,
   "metadata": {
    "ExecuteTime": {
     "end_time": "2022-07-08T14:08:31.957566Z",
     "start_time": "2022-07-08T14:08:31.909821Z"
    }
   },
   "outputs": [],
   "source": [
    "result_tomcat = np.zeros(36)\n",
    "pattern = re.compile(\"[\\w\\W]:\\s*(\\d+\\.\\d+)\")\n",
    "for i,filename in enumerate(filename_tomcat):\n",
    "    with open(filename,'r') as f:\n",
    "        tmp = f.readlines()\n",
    "        f_s = float(pattern.findall(tmp[1])[0])\n",
    "        result_tomcat[i] = f_s\n",
    "        f.close()"
   ]
  },
  {
   "cell_type": "code",
   "execution_count": 9,
   "metadata": {
    "ExecuteTime": {
     "end_time": "2022-07-08T14:08:31.973904Z",
     "start_time": "2022-07-08T14:08:31.957566Z"
    }
   },
   "outputs": [],
   "source": [
    "result_kafka_ = result_kafka.reshape(4,9)\n",
    "result_kylin_ = result_kylin.reshape(4,9)\n",
    "result_ant_ = result_ant.reshape(4,9)\n",
    "result_tomcat_ = result_tomcat.reshape(4,9)"
   ]
  },
  {
   "cell_type": "code",
   "execution_count": 10,
   "metadata": {
    "ExecuteTime": {
     "end_time": "2022-07-08T14:08:31.989877Z",
     "start_time": "2022-07-08T14:08:31.973904Z"
    }
   },
   "outputs": [],
   "source": [
    "axis_y = np.linspace(0.2,0.8,4)\n",
    "axis_y_ = [str(round(y_v,2)) for y_v in axis_y]"
   ]
  },
  {
   "cell_type": "code",
   "execution_count": 11,
   "metadata": {
    "ExecuteTime": {
     "end_time": "2022-07-08T14:08:32.101469Z",
     "start_time": "2022-07-08T14:08:32.093475Z"
    }
   },
   "outputs": [],
   "source": [
    "axis_x = np.linspace(0.0,2.0,9)\n",
    "axis_x_ = [str(round(x_v,2)) for x_v in axis_x]"
   ]
  },
  {
   "cell_type": "code",
   "execution_count": 12,
   "metadata": {
    "ExecuteTime": {
     "end_time": "2022-07-08T14:08:32.485900Z",
     "start_time": "2022-07-08T14:08:32.462053Z"
    }
   },
   "outputs": [],
   "source": [
    "result_all = [result_kafka_,result_kylin_,result_ant_,result_tomcat_]\n",
    "title_list = [\"kafka参数结果分布图\",\"kylin参数结果分布图\",\"ant参数结果分布图\",\"tomcat参数结果分布图\"]"
   ]
  },
  {
   "cell_type": "code",
   "execution_count": 13,
   "metadata": {
    "ExecuteTime": {
     "end_time": "2022-07-08T14:08:32.965582Z",
     "start_time": "2022-07-08T14:08:32.941715Z"
    }
   },
   "outputs": [],
   "source": [
    "from matplotlib import font_manager\n",
    "from pylab import mpl,text"
   ]
  },
  {
   "cell_type": "code",
   "execution_count": 14,
   "metadata": {
    "ExecuteTime": {
     "end_time": "2022-07-08T14:08:34.245504Z",
     "start_time": "2022-07-08T14:08:34.221880Z"
    }
   },
   "outputs": [],
   "source": [
    "simsun = font_manager.FontProperties(fname=r\"C:\\Windows\\Fonts\\simsun.ttc\",size=18)\n",
    "roman = font_manager.FontProperties(fname=r\"C:\\Windows\\Fonts\\times.ttf\",size=18)\n",
    "\n",
    "mpl.rcParams[\"font.sans-serif\"] = ['Simsun']\n",
    "\n",
    "fontcn = {'family':'SimSun','size':18}\n",
    "fonten = {'family':'Times New Roman','size':18}"
   ]
  },
  {
   "cell_type": "code",
   "execution_count": 15,
   "metadata": {
    "ExecuteTime": {
     "end_time": "2022-07-08T14:08:34.709517Z",
     "start_time": "2022-07-08T14:08:34.621274Z"
    }
   },
   "outputs": [],
   "source": [
    "import math\n",
    "from mpl_toolkits.axes_grid1 import ImageGrid"
   ]
  },
  {
   "cell_type": "code",
   "execution_count": 17,
   "metadata": {
    "ExecuteTime": {
     "end_time": "2022-07-08T14:09:58.435446Z",
     "start_time": "2022-07-08T14:09:58.419449Z"
    }
   },
   "outputs": [
    {
     "name": "stdout",
     "output_type": "stream",
     "text": [
      "Help on function plot in module matplotlib.pyplot:\n",
      "\n",
      "plot(*args, scalex=True, scaley=True, data=None, **kwargs)\n",
      "    Plot y versus x as lines and/or markers.\n",
      "    \n",
      "    Call signatures::\n",
      "    \n",
      "        plot([x], y, [fmt], *, data=None, **kwargs)\n",
      "        plot([x], y, [fmt], [x2], y2, [fmt2], ..., **kwargs)\n",
      "    \n",
      "    The coordinates of the points or line nodes are given by *x*, *y*.\n",
      "    \n",
      "    The optional parameter *fmt* is a convenient way for defining basic\n",
      "    formatting like color, marker and linestyle. It's a shortcut string\n",
      "    notation described in the *Notes* section below.\n",
      "    \n",
      "    >>> plot(x, y)        # plot x and y using default line style and color\n",
      "    >>> plot(x, y, 'bo')  # plot x and y using blue circle markers\n",
      "    >>> plot(y)           # plot y using x as index array 0..N-1\n",
      "    >>> plot(y, 'r+')     # ditto, but with red plusses\n",
      "    \n",
      "    You can use `.Line2D` properties as keyword arguments for more\n",
      "    control on the appearance. Line properties and *fmt* can be mixed.\n",
      "    The following two calls yield identical results:\n",
      "    \n",
      "    >>> plot(x, y, 'go--', linewidth=2, markersize=12)\n",
      "    >>> plot(x, y, color='green', marker='o', linestyle='dashed',\n",
      "    ...      linewidth=2, markersize=12)\n",
      "    \n",
      "    When conflicting with *fmt*, keyword arguments take precedence.\n",
      "    \n",
      "    \n",
      "    **Plotting labelled data**\n",
      "    \n",
      "    There's a convenient way for plotting objects with labelled data (i.e.\n",
      "    data that can be accessed by index ``obj['y']``). Instead of giving\n",
      "    the data in *x* and *y*, you can provide the object in the *data*\n",
      "    parameter and just give the labels for *x* and *y*::\n",
      "    \n",
      "    >>> plot('xlabel', 'ylabel', data=obj)\n",
      "    \n",
      "    All indexable objects are supported. This could e.g. be a `dict`, a\n",
      "    `pandas.DataFrame` or a structured numpy array.\n",
      "    \n",
      "    \n",
      "    **Plotting multiple sets of data**\n",
      "    \n",
      "    There are various ways to plot multiple sets of data.\n",
      "    \n",
      "    - The most straight forward way is just to call `plot` multiple times.\n",
      "      Example:\n",
      "    \n",
      "      >>> plot(x1, y1, 'bo')\n",
      "      >>> plot(x2, y2, 'go')\n",
      "    \n",
      "    - If *x* and/or *y* are 2D arrays a separate data set will be drawn\n",
      "      for every column. If both *x* and *y* are 2D, they must have the\n",
      "      same shape. If only one of them is 2D with shape (N, m) the other\n",
      "      must have length N and will be used for every data set m.\n",
      "    \n",
      "      Example:\n",
      "    \n",
      "      >>> x = [1, 2, 3]\n",
      "      >>> y = np.array([[1, 2], [3, 4], [5, 6]])\n",
      "      >>> plot(x, y)\n",
      "    \n",
      "      is equivalent to:\n",
      "    \n",
      "      >>> for col in range(y.shape[1]):\n",
      "      ...     plot(x, y[:, col])\n",
      "    \n",
      "    - The third way is to specify multiple sets of *[x]*, *y*, *[fmt]*\n",
      "      groups::\n",
      "    \n",
      "      >>> plot(x1, y1, 'g^', x2, y2, 'g-')\n",
      "    \n",
      "      In this case, any additional keyword argument applies to all\n",
      "      datasets. Also this syntax cannot be combined with the *data*\n",
      "      parameter.\n",
      "    \n",
      "    By default, each line is assigned a different style specified by a\n",
      "    'style cycle'. The *fmt* and line property parameters are only\n",
      "    necessary if you want explicit deviations from these defaults.\n",
      "    Alternatively, you can also change the style cycle using\n",
      "    :rc:`axes.prop_cycle`.\n",
      "    \n",
      "    \n",
      "    Parameters\n",
      "    ----------\n",
      "    x, y : array-like or scalar\n",
      "        The horizontal / vertical coordinates of the data points.\n",
      "        *x* values are optional and default to ``range(len(y))``.\n",
      "    \n",
      "        Commonly, these parameters are 1D arrays.\n",
      "    \n",
      "        They can also be scalars, or two-dimensional (in that case, the\n",
      "        columns represent separate data sets).\n",
      "    \n",
      "        These arguments cannot be passed as keywords.\n",
      "    \n",
      "    fmt : str, optional\n",
      "        A format string, e.g. 'ro' for red circles. See the *Notes*\n",
      "        section for a full description of the format strings.\n",
      "    \n",
      "        Format strings are just an abbreviation for quickly setting\n",
      "        basic line properties. All of these and more can also be\n",
      "        controlled by keyword arguments.\n",
      "    \n",
      "        This argument cannot be passed as keyword.\n",
      "    \n",
      "    data : indexable object, optional\n",
      "        An object with labelled data. If given, provide the label names to\n",
      "        plot in *x* and *y*.\n",
      "    \n",
      "        .. note::\n",
      "            Technically there's a slight ambiguity in calls where the\n",
      "            second label is a valid *fmt*. ``plot('n', 'o', data=obj)``\n",
      "            could be ``plt(x, y)`` or ``plt(y, fmt)``. In such cases,\n",
      "            the former interpretation is chosen, but a warning is issued.\n",
      "            You may suppress the warning by adding an empty format string\n",
      "            ``plot('n', 'o', '', data=obj)``.\n",
      "    \n",
      "    Returns\n",
      "    -------\n",
      "    list of `.Line2D`\n",
      "        A list of lines representing the plotted data.\n",
      "    \n",
      "    Other Parameters\n",
      "    ----------------\n",
      "    scalex, scaley : bool, default: True\n",
      "        These parameters determine if the view limits are adapted to the\n",
      "        data limits. The values are passed on to `autoscale_view`.\n",
      "    \n",
      "    **kwargs : `.Line2D` properties, optional\n",
      "        *kwargs* are used to specify properties like a line label (for\n",
      "        auto legends), linewidth, antialiasing, marker face color.\n",
      "        Example::\n",
      "    \n",
      "        >>> plot([1, 2, 3], [1, 2, 3], 'go-', label='line 1', linewidth=2)\n",
      "        >>> plot([1, 2, 3], [1, 4, 9], 'rs', label='line 2')\n",
      "    \n",
      "        If you specify multiple lines with one plot call, the kwargs apply\n",
      "        to all those lines. In case the label object is iterable, each\n",
      "        element is used as labels for each set of data.\n",
      "    \n",
      "        Here is a list of available `.Line2D` properties:\n",
      "    \n",
      "        Properties:\n",
      "        agg_filter: a filter function, which takes a (m, n, 3) float array and a dpi value, and returns a (m, n, 3) array\n",
      "        alpha: scalar or None\n",
      "        animated: bool\n",
      "        antialiased or aa: bool\n",
      "        clip_box: `.Bbox`\n",
      "        clip_on: bool\n",
      "        clip_path: Patch or (Path, Transform) or None\n",
      "        color or c: color\n",
      "        dash_capstyle: `.CapStyle` or {'butt', 'projecting', 'round'}\n",
      "        dash_joinstyle: `.JoinStyle` or {'miter', 'round', 'bevel'}\n",
      "        dashes: sequence of floats (on/off ink in points) or (None, None)\n",
      "        data: (2, N) array or two 1D arrays\n",
      "        drawstyle or ds: {'default', 'steps', 'steps-pre', 'steps-mid', 'steps-post'}, default: 'default'\n",
      "        figure: `.Figure`\n",
      "        fillstyle: {'full', 'left', 'right', 'bottom', 'top', 'none'}\n",
      "        gid: str\n",
      "        in_layout: bool\n",
      "        label: object\n",
      "        linestyle or ls: {'-', '--', '-.', ':', '', (offset, on-off-seq), ...}\n",
      "        linewidth or lw: float\n",
      "        marker: marker style string, `~.path.Path` or `~.markers.MarkerStyle`\n",
      "        markeredgecolor or mec: color\n",
      "        markeredgewidth or mew: float\n",
      "        markerfacecolor or mfc: color\n",
      "        markerfacecoloralt or mfcalt: color\n",
      "        markersize or ms: float\n",
      "        markevery: None or int or (int, int) or slice or list[int] or float or (float, float) or list[bool]\n",
      "        path_effects: `.AbstractPathEffect`\n",
      "        picker: float or callable[[Artist, Event], tuple[bool, dict]]\n",
      "        pickradius: float\n",
      "        rasterized: bool\n",
      "        sketch_params: (scale: float, length: float, randomness: float)\n",
      "        snap: bool or None\n",
      "        solid_capstyle: `.CapStyle` or {'butt', 'projecting', 'round'}\n",
      "        solid_joinstyle: `.JoinStyle` or {'miter', 'round', 'bevel'}\n",
      "        transform: unknown\n",
      "        url: str\n",
      "        visible: bool\n",
      "        xdata: 1D array\n",
      "        ydata: 1D array\n",
      "        zorder: float\n",
      "    \n",
      "    See Also\n",
      "    --------\n",
      "    scatter : XY scatter plot with markers of varying size and/or color (\n",
      "        sometimes also called bubble chart).\n",
      "    \n",
      "    Notes\n",
      "    -----\n",
      "    **Format Strings**\n",
      "    \n",
      "    A format string consists of a part for color, marker and line::\n",
      "    \n",
      "        fmt = '[marker][line][color]'\n",
      "    \n",
      "    Each of them is optional. If not provided, the value from the style\n",
      "    cycle is used. Exception: If ``line`` is given, but no ``marker``,\n",
      "    the data will be a line without markers.\n",
      "    \n",
      "    Other combinations such as ``[color][marker][line]`` are also\n",
      "    supported, but note that their parsing may be ambiguous.\n",
      "    \n",
      "    **Markers**\n",
      "    \n",
      "    =============   ===============================\n",
      "    character       description\n",
      "    =============   ===============================\n",
      "    ``'.'``         point marker\n",
      "    ``','``         pixel marker\n",
      "    ``'o'``         circle marker\n",
      "    ``'v'``         triangle_down marker\n",
      "    ``'^'``         triangle_up marker\n",
      "    ``'<'``         triangle_left marker\n",
      "    ``'>'``         triangle_right marker\n",
      "    ``'1'``         tri_down marker\n",
      "    ``'2'``         tri_up marker\n",
      "    ``'3'``         tri_left marker\n",
      "    ``'4'``         tri_right marker\n",
      "    ``'8'``         octagon marker\n",
      "    ``'s'``         square marker\n",
      "    ``'p'``         pentagon marker\n",
      "    ``'P'``         plus (filled) marker\n",
      "    ``'*'``         star marker\n",
      "    ``'h'``         hexagon1 marker\n",
      "    ``'H'``         hexagon2 marker\n",
      "    ``'+'``         plus marker\n",
      "    ``'x'``         x marker\n",
      "    ``'X'``         x (filled) marker\n",
      "    ``'D'``         diamond marker\n",
      "    ``'d'``         thin_diamond marker\n",
      "    ``'|'``         vline marker\n",
      "    ``'_'``         hline marker\n",
      "    =============   ===============================\n",
      "    \n",
      "    **Line Styles**\n",
      "    \n",
      "    =============    ===============================\n",
      "    character        description\n",
      "    =============    ===============================\n",
      "    ``'-'``          solid line style\n",
      "    ``'--'``         dashed line style\n",
      "    ``'-.'``         dash-dot line style\n",
      "    ``':'``          dotted line style\n",
      "    =============    ===============================\n",
      "    \n",
      "    Example format strings::\n",
      "    \n",
      "        'b'    # blue markers with default shape\n",
      "        'or'   # red circles\n",
      "        '-g'   # green solid line\n",
      "        '--'   # dashed line with default color\n",
      "        '^k:'  # black triangle_up markers connected by a dotted line\n",
      "    \n",
      "    **Colors**\n",
      "    \n",
      "    The supported color abbreviations are the single letter codes\n",
      "    \n",
      "    =============    ===============================\n",
      "    character        color\n",
      "    =============    ===============================\n",
      "    ``'b'``          blue\n",
      "    ``'g'``          green\n",
      "    ``'r'``          red\n",
      "    ``'c'``          cyan\n",
      "    ``'m'``          magenta\n",
      "    ``'y'``          yellow\n",
      "    ``'k'``          black\n",
      "    ``'w'``          white\n",
      "    =============    ===============================\n",
      "    \n",
      "    and the ``'CN'`` colors that index into the default property cycle.\n",
      "    \n",
      "    If the color is the only part of the format string, you can\n",
      "    additionally use any  `matplotlib.colors` spec, e.g. full names\n",
      "    (``'green'``) or hex strings (``'#008000'``).\n",
      "\n"
     ]
    }
   ],
   "source": [
    "help(plt.plot)"
   ]
  },
  {
   "cell_type": "code",
   "execution_count": 20,
   "metadata": {
    "ExecuteTime": {
     "end_time": "2022-07-08T14:13:07.985053Z",
     "start_time": "2022-07-08T14:13:07.481417Z"
    }
   },
   "outputs": [
    {
     "name": "stderr",
     "output_type": "stream",
     "text": [
      "d:\\python\\lib\\site-packages\\ipykernel_launcher.py:27: UserWarning: This figure includes Axes that are not compatible with tight_layout, so results might be incorrect.\n"
     ]
    },
    {
     "data": {
      "image/png": "[encoded data removed]",
      "text/plain": [
       "<Figure size 1152x648 with 5 Axes>"
      ]
     },
     "metadata": {
      "needs_background": "light"
     },
     "output_type": "display_data"
    }
   ],
   "source": [
    "vmin = min(np.min(result_all[0]),np.min(result_all[1]),np.min(result_all[2]),np.min(result_all[3]))\n",
    "vmax = max(np.max(result_all[0]),np.max(result_all[1]),np.max(result_all[2]),np.max(result_all[3]))\n",
    "\n",
    "fig = plt.figure(figsize=(16,9))\n",
    "plt.rcParams[\"font.size\"] = 18\n",
    "# plt.rcParams[\"font.weight\"] = 'heavy'\n",
    "axes = []\n",
    "for i in range(4):\n",
    "    ax = plt.subplot(2,2,i+1)\n",
    "    axes.append(ax)\n",
    "    plt.xticks(np.arange(len(axis_x_)),axis_x_)\n",
    "    plt.yticks(np.arange(len(axis_y_)),axis_y_)\n",
    "    plt.xlabel(\"lambda\",labelpad=10)\n",
    "    plt.ylabel(\"alpha\",labelpad=10)\n",
    "    plt.title(title_list[i],pad=10)\n",
    "    im = plt.imshow(result_all[i],vmin=vmin,vmax=vmax)\n",
    "    row = np.argmax(result_all[i])//9 + 1\n",
    "    col = np.argmax(result_all[i]) - 9*(row-1)\n",
    "    plt.text(x=col,y=(row-1),s=round(result_all[i][row-1,col],2), ha=\"center\", va=\"center\")\n",
    "    plt.plot([col-0.5,col+0.5],[[row-1.5,row-0.5],[row-1.5,row-0.5]],'b')\n",
    "    plt.plot([[col-0.5,col+0.5],[col-0.5,col+0.5]],[row-1.5,row-0.5],'b')\n",
    "#     a = ax.pcolormesh(result_all[i], norm=norm)\n",
    "\n",
    "position=fig.add_axes([0.15, -0.01, 0.75, 0.03])#位置[左,下,右,上]\n",
    "cb=plt.colorbar(im,ax=axes,cax=position,orientation='horizontal')\n",
    "plt.subplots_adjust(wspace=(0.3),hspace=(0.15))\n",
    "plt.tight_layout()\n",
    "# plt.savefig(\"./热力图.jpg\",dpi=500,bbox_inches=\"tight\")\n",
    "plt.show()"
   ]
  },
  {
   "cell_type": "code",
   "execution_count": 156,
   "metadata": {
    "ExecuteTime": {
     "end_time": "2022-07-08T13:49:15.069250Z",
     "start_time": "2022-07-08T13:49:15.055801Z"
    }
   },
   "outputs": [],
   "source": [
    "result_kafka = np.zeros(36)\n",
    "pattern = re.compile(\"[\\w\\W]:\\s*(\\d+\\.\\d+)\")\n",
    "for i,filename in enumerate(filename_kafka):\n",
    "    with open(filename,'r') as f:\n",
    "        tmp = f.readlines()\n",
    "        f_s = float(pattern.findall(tmp[0])[0])\n",
    "        result_kafka[i] = f_s\n",
    "        f.close()"
   ]
  },
  {
   "cell_type": "code",
   "execution_count": 157,
   "metadata": {
    "ExecuteTime": {
     "end_time": "2022-07-08T13:49:15.085382Z",
     "start_time": "2022-07-08T13:49:15.071024Z"
    }
   },
   "outputs": [],
   "source": [
    "result_kylin = np.zeros(36)\n",
    "pattern = re.compile(\"[\\w\\W]:\\s*(\\d+\\.\\d+)\")\n",
    "for i,filename in enumerate(filename_kylin):\n",
    "    with open(filename,'r') as f:\n",
    "        tmp = f.readlines()\n",
    "        f_s = float(pattern.findall(tmp[0])[0])\n",
    "        result_kylin[i] = f_s\n",
    "        f.close()"
   ]
  },
  {
   "cell_type": "code",
   "execution_count": 158,
   "metadata": {
    "ExecuteTime": {
     "end_time": "2022-07-08T13:49:15.101606Z",
     "start_time": "2022-07-08T13:49:15.087379Z"
    }
   },
   "outputs": [],
   "source": [
    "result_ant = np.zeros(36)\n",
    "pattern = re.compile(\"[\\w\\W]:\\s*(\\d+\\.\\d+)\")\n",
    "for i,filename in enumerate(filename_ant):\n",
    "    with open(filename,'r') as f:\n",
    "        tmp = f.readlines()\n",
    "        f_s = float(pattern.findall(tmp[0])[0])\n",
    "        result_ant[i] = f_s\n",
    "        f.close()"
   ]
  },
  {
   "cell_type": "code",
   "execution_count": 159,
   "metadata": {
    "ExecuteTime": {
     "end_time": "2022-07-08T13:49:15.116029Z",
     "start_time": "2022-07-08T13:49:15.102607Z"
    }
   },
   "outputs": [],
   "source": [
    "result_tomcat = np.zeros(36)\n",
    "pattern = re.compile(\"[\\w\\W]:\\s*(\\d+\\.\\d+)\")\n",
    "for i,filename in enumerate(filename_tomcat):\n",
    "    with open(filename,'r') as f:\n",
    "        tmp = f.readlines()\n",
    "        f_s = float(pattern.findall(tmp[0])[0])\n",
    "        result_tomcat[i] = f_s\n",
    "        f.close()"
   ]
  },
  {
   "cell_type": "code",
   "execution_count": 160,
   "metadata": {
    "ExecuteTime": {
     "end_time": "2022-07-08T13:49:15.131977Z",
     "start_time": "2022-07-08T13:49:15.116704Z"
    }
   },
   "outputs": [],
   "source": [
    "result_kafka_ = result_kafka.reshape(4,9)\n",
    "result_kylin_ = result_kylin.reshape(4,9)\n",
    "result_ant_ = result_ant.reshape(4,9)\n",
    "result_tomcat_ = result_tomcat.reshape(4,9)"
   ]
  },
  {
   "cell_type": "code",
   "execution_count": 161,
   "metadata": {
    "ExecuteTime": {
     "end_time": "2022-07-08T13:49:15.147286Z",
     "start_time": "2022-07-08T13:49:15.132936Z"
    }
   },
   "outputs": [],
   "source": [
    "result_all = [result_kafka_,result_kylin_,result_ant_,result_tomcat_]\n",
    "title_list = [\"kafka参数结果分布图\",\"kylin参数结果分布图\",\"ant参数结果分布图\",\"tomcat参数结果分布图\"]"
   ]
  },
  {
   "cell_type": "code",
   "execution_count": 162,
   "metadata": {
    "ExecuteTime": {
     "end_time": "2022-07-08T13:49:18.841920Z",
     "start_time": "2022-07-08T13:49:15.149112Z"
    }
   },
   "outputs": [
    {
     "name": "stderr",
     "output_type": "stream",
     "text": [
      "d:\\python\\lib\\site-packages\\ipykernel_launcher.py:25: UserWarning: This figure includes Axes that are not compatible with tight_layout, so results might be incorrect.\n"
     ]
    },
    {
     "data": {
      "image/png": "[encoded data removed]",
      "text/plain": [
       "<Figure size 1152x648 with 5 Axes>"
      ]
     },
     "metadata": {
      "needs_background": "light"
     },
     "output_type": "display_data"
    }
   ],
   "source": [
    "vmin = min(np.min(result_all[0]),np.min(result_all[1]),np.min(result_all[2]),np.min(result_all[3]))\n",
    "vmax = max(np.max(result_all[0]),np.max(result_all[1]),np.max(result_all[2]),np.max(result_all[3]))\n",
    "\n",
    "fig = plt.figure(figsize=(16,9))\n",
    "plt.rcParams[\"font.size\"] = 18\n",
    "# plt.rcParams[\"font.weight\"] = 'heavy'\n",
    "# plt.rcParams['font.family'] = ['sans-serif']\n",
    "# plt.rcParams['font.sans-serif'] = ['SimHei']\n",
    "axes = []\n",
    "for i in range(4):\n",
    "    ax = plt.subplot(2,2,i+1)\n",
    "    axes.append(ax)\n",
    "    plt.xticks(np.arange(len(axis_x_)),axis_x_)\n",
    "    plt.yticks(np.arange(len(axis_y_)),axis_y_)\n",
    "    plt.xlabel(\"lambda\",labelpad=10)\n",
    "    plt.ylabel(\"alpha\",labelpad=10)\n",
    "    im = plt.imshow(result_all[i],vmin=vmin,vmax=vmax)\n",
    "    row = np.argmax(result_all[i])//9 + 1\n",
    "    col = np.argmax(result_all[i]) - 9*(row-1)\n",
    "    plt.text(x=col,y=(row-1),s=round(result_all[i][row-1,col],2), ha=\"center\", va=\"center\")\n",
    "    plt.title(title_list[i],pad=10)\n",
    "position=fig.add_axes([0.15, -0.01, 0.75, 0.03])#位置[左,下,右,上]\n",
    "cb=plt.colorbar(im,ax=axes,cax=position,orientation='horizontal')\n",
    "# plt.subplots_adjust(wspace=0.2,hspace=-0.3)\n",
    "plt.tight_layout()\n",
    "plt.savefig(\"./热力图_recall.jpg\",dpi=500,bbox_inches=\"tight\")\n",
    "plt.show()"
   ]
  },
  {
   "cell_type": "code",
   "execution_count": 282,
   "metadata": {},
   "outputs": [],
   "source": [
    "from scipy.stats import chisquare,chi2_contingency\n",
    "import pymysql\n",
    "import pandas as pd\n",
    "import math"
   ]
  },
  {
   "cell_type": "code",
   "execution_count": 389,
   "metadata": {},
   "outputs": [],
   "source": [
    "connection = pymysql.connect(host='localhost', port=3306, user='root', passwd='123', db='tomcat')\n",
    "\n",
    "sql = \"select * from all_data_retain\"\n",
    "\n",
    "curse = connection.cursor()\n",
    "\n",
    "row = curse.execute(sql)\n",
    "\n",
    "result = curse.fetchall()\n",
    "\n",
    "columns = []\n",
    "for i in range(len(curse.description)):\n",
    "    columns.append(curse.description[i][0])\n",
    "\n",
    "curse.close()\n",
    "connection.close()\n",
    "\n",
    "df = pd.DataFrame(data=result, columns=columns)\n",
    "\n",
    "labels = df.label.values\n",
    "\n",
    "df.drop(columns=['id', 'label', 'annotators', 'parameter_number', 'parameter', 'methodName', 'className',\n",
    "                 'filename'], inplace=True)"
   ]
  },
  {
   "cell_type": "code",
   "execution_count": 390,
   "metadata": {},
   "outputs": [],
   "source": [
    "dic_index = {\n",
    "    1:1, 2:17, 3:18, 4:19, 5:20, 6:21, 7:22, 8:2, 9:3, 10:4, 11:23, 12:24, 13:25, 14:26, 15:5, 17:6, 18:8, 19:9, 20:10,\n",
    "    21:11, 22:12, 23:27, 24:13, 25:14, 26:15, 27:16, 28:28, 29:32, 30:34, 31:30, 32:35, 33:36, 34:37, 35:29, 36:31, 37:33, 38:43, 39:42,\n",
    "    40:41, 41:40, 42:39, 43:38, 44:59, 45:46, 46:52, 47:51, 48:49, 49:50, 50:47, 51:48, 52:54, 53:58, 54:57, 55:56, 56:53, 57:55, 58:45,\n",
    "    59:44\n",
    "}"
   ]
  },
  {
   "cell_type": "code",
   "execution_count": 391,
   "metadata": {},
   "outputs": [],
   "source": [
    "df_test = pd.DataFrame(data=np.zeros(df.shape),columns=None,index=None)"
   ]
  },
  {
   "cell_type": "code",
   "execution_count": 392,
   "metadata": {},
   "outputs": [],
   "source": [
    "for k,v in dic_index.items():\n",
    "    df_test.iloc[:,v-1] = df.iloc[:,k-1]"
   ]
  },
  {
   "cell_type": "code",
   "execution_count": 393,
   "metadata": {},
   "outputs": [],
   "source": [
    "df_test.drop(columns=[58],inplace=True)"
   ]
  },
  {
   "cell_type": "code",
   "execution_count": 349,
   "metadata": {},
   "outputs": [],
   "source": [
    "from sklearn.feature_selection import mutual_info_classif"
   ]
  },
  {
   "cell_type": "code",
   "execution_count": 376,
   "metadata": {},
   "outputs": [],
   "source": [
    "mi_kafka = mutual_info_classif(df_test.values,labels)"
   ]
  },
  {
   "cell_type": "code",
   "execution_count": 382,
   "metadata": {},
   "outputs": [],
   "source": [
    "mi_kylin = mutual_info_classif(df_test.values,labels)"
   ]
  },
  {
   "cell_type": "code",
   "execution_count": 394,
   "metadata": {},
   "outputs": [],
   "source": [
    "mi_tomcat = mutual_info_classif(df_test.values,labels)"
   ]
  },
  {
   "cell_type": "code",
   "execution_count": 388,
   "metadata": {},
   "outputs": [],
   "source": [
    "mi_ant = mutual_info_classif(df_test.values,labels)"
   ]
  },
  {
   "cell_type": "code",
   "execution_count": 395,
   "metadata": {},
   "outputs": [],
   "source": [
    "all_mi = np.vstack([mi_kafka,mi_kylin,mi_ant,mi_tomcat])"
   ]
  },
  {
   "cell_type": "code",
   "execution_count": 404,
   "metadata": {},
   "outputs": [],
   "source": [
    "x_t_c = [\"$x_c^{}{}{}$\".format('{',i+1,'}') for i in range(37)]\n",
    "x_t_p = [\"$x_p^{}{}{}$\".format('{',i+1,'}') for i in range(6)]\n",
    "x_t_d = [\"$x_d^{}{}{}$\".format('{',i+1,'}') for i in range(15)]"
   ]
  },
  {
   "cell_type": "code",
   "execution_count": 405,
   "metadata": {},
   "outputs": [],
   "source": [
    "x_t = x_t_c+x_t_p+x_t_d"
   ]
  },
  {
   "cell_type": "code",
   "execution_count": 448,
   "metadata": {},
   "outputs": [
    {
     "data": {
      "image/png": "[encoded data removed]",
      "text/plain": [
       "<Figure size 2160x2160 with 2 Axes>"
      ]
     },
     "metadata": {
      "needs_background": "light"
     },
     "output_type": "display_data"
    }
   ],
   "source": [
    "fig = plt.figure(figsize=(30,30))\n",
    "im = plt.imshow(all_mi[:,:37])\n",
    "# plt.xlabel()\n",
    "plt.yticks(np.arange(4),[\"kafka\",\"kylin\",\"ant\",\"tomcat\"])\n",
    "plt.xticks(np.arange(37),x_t_c)\n",
    "# plt.colorbar()\n",
    "position=fig.add_axes([0.15, 0.4, 0.7, 0.01])#位置[左,下,右,上]\n",
    "cb=plt.colorbar(im,cax=position,orientation='horizontal')\n",
    "plt.savefig(\"./相关性_代码.jpg\",dpi=500,bbox_inches=\"tight\")\n",
    "plt.show()"
   ]
  },
  {
   "cell_type": "code",
   "execution_count": 449,
   "metadata": {},
   "outputs": [
    {
     "data": {
      "image/png": "[encoded data removed]",
      "text/plain": [
       "<Figure size 1440x1440 with 2 Axes>"
      ]
     },
     "metadata": {
      "needs_background": "light"
     },
     "output_type": "display_data"
    }
   ],
   "source": [
    "fig = plt.figure(figsize=(20,20))\n",
    "plt.imshow(all_mi[:,37:])\n",
    "# plt.xlabel()\n",
    "plt.yticks(np.arange(4),[\"kafka\",\"kylin\",\"ant\",\"tomcat\"])\n",
    "plt.xticks(np.arange(21),x_t_p+x_t_d)\n",
    "# plt.colorbar()\n",
    "position=fig.add_axes([0.15, 0.35, 0.75, 0.01])#位置[左,下,右,上]\n",
    "cb=plt.colorbar(im,cax=position,orientation='horizontal')\n",
    "plt.savefig(\"./相关性_过程_人.jpg\",dpi=500,bbox_inches=\"tight\")\n",
    "plt.show()"
   ]
  },
  {
   "cell_type": "code",
   "execution_count": 4,
   "metadata": {},
   "outputs": [],
   "source": [
    "kafka_result_no = [0.8401,0.7607,0.9525,0.0721]\n",
    "kylin_result_no = [0.8111,0.7698,0.9529,0.024]\n",
    "ant_result_no = [0.6086,0.7088,0.9459,0.008]\n",
    "tomcat_reuslt_no = [0.7544,0.7875,0.9667,0.0042]"
   ]
  },
  {
   "cell_type": "code",
   "execution_count": 3,
   "metadata": {},
   "outputs": [],
   "source": [
    "kafka_result_ = [0.8428,0.7804,0.9568,0.0628]\n",
    "kylin_result_ = [0.7639,0.7739,0.9457,0.0238]\n",
    "ant_result_ = [0.6521,0.7185,0.9502,0.0072]\n",
    "tomcat_result_ = [0.7544,0.7924,0.9652,0.0037]"
   ]
  },
  {
   "cell_type": "code",
   "execution_count": 5,
   "metadata": {},
   "outputs": [],
   "source": [
    "metric_ = [\"recall\",\"f1_score\",\"auc\",\"fpr\"]"
   ]
  },
  {
   "cell_type": "code",
   "execution_count": 11,
   "metadata": {},
   "outputs": [
    {
     "data": {
      "image/png": "[encoded data removed]",
      "text/plain": [
       "<Figure size 864x864 with 4 Axes>"
      ]
     },
     "metadata": {
      "needs_background": "light"
     },
     "output_type": "display_data"
    }
   ],
   "source": [
    "plt.figure(figsize=(12,12))\n",
    "plt.subplot(2,2,1)\n",
    "x = np.arange(len(metric_)) # x轴刻度标签位置\n",
    "width = 0.25 # 柱子的宽度\n",
    "# 计算每个柱子在x轴上的位置，保证x轴刻度标签居中\n",
    "# x - width/2，x + width/2即每组数据在x轴上的位置\n",
    "plt.bar(x - width/2, kafka_result_, width, label='Shrinking')\n",
    "plt.bar(x + width/2, kafka_result_no, width, label='Without Shrinking')\n",
    "# plt.ylabel('')\n",
    "plt.xticks(x, labels=metric_)\n",
    "plt.title('kafka')\n",
    "# plt.legend()\n",
    "plt.subplot(2,2,2)\n",
    "plt.bar(x - width/2, kylin_result_, width, label='Shrinking')\n",
    "plt.bar(x + width/2, kylin_result_no, width, label='Without Shrinking')\n",
    "plt.xticks(x, labels=metric_)\n",
    "# plt.legend()\n",
    "plt.title(\"kylin\")\n",
    "plt.subplot(2,2,3)\n",
    "plt.bar(x - width/2, ant_result_, width, label='Shrinking')\n",
    "plt.bar(x + width/2, ant_result_no, width, label='Without Shrinking')\n",
    "plt.xticks(x, labels=metric_)\n",
    "# plt.legend()\n",
    "plt.title(\"ant\")\n",
    "plt.subplot(2,2,4)\n",
    "plt.bar(x - width/2, tomcat_result_, width, label='Shrinking')\n",
    "plt.bar(x + width/2, tomcat_reuslt_no, width, label='Without Shrinking')\n",
    "plt.xticks(x, labels=metric_)\n",
    "plt.legend(ncol=2,bbox_to_anchor=(0.2,-0.2))\n",
    "plt.title(\"tomcat\")\n",
    "plt.subplots_adjust(wspace=(0.5),hspace=(0.5))\n",
    "plt.savefig(\"./问题4对比.jpg\",dpi=500,bbox_inches=\"tight\")\n",
    "plt.show()"
   ]
  },
  {
   "cell_type": "code",
   "execution_count": null,
   "metadata": {},
   "outputs": [],
   "source": []
  },
  {
   "cell_type": "code",
   "execution_count": null,
   "metadata": {},
   "outputs": [],
   "source": []
  }
 ],
 "metadata": {
  "kernelspec": {
   "display_name": "Python 3",
   "language": "python",
   "name": "python3"
  },
  "language_info": {
   "codemirror_mode": {
    "name": "ipython",
    "version": 3
   },
   "file_extension": ".py",
   "mimetype": "text/x-python",
   "name": "python",
   "nbconvert_exporter": "python",
   "pygments_lexer": "ipython3",
   "version": "3.7.6"
  },
  "toc": {
   "base_numbering": 1,
   "nav_menu": {},
   "number_sections": true,
   "sideBar": true,
   "skip_h1_title": false,
   "title_cell": "Table of Contents",
   "title_sidebar": "Contents",
   "toc_cell": false,
   "toc_position": {},
   "toc_section_display": true,
   "toc_window_display": false
  }
 },
 "nbformat": 4,
 "nbformat_minor": 4
}
